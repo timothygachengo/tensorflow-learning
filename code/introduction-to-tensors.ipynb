{
 "cells": [
  {
   "cell_type": "code",
   "execution_count": 1,
   "id": "0b0cfc89-c12b-407c-bd06-26ee1141b7d9",
   "metadata": {},
   "outputs": [
    {
     "data": {
      "text/plain": [
       "(<tf.Variable 'Variable:0' shape=() dtype=string, numpy=b'this is a string'>,\n",
       " <tf.Variable 'Variable:0' shape=() dtype=int32, numpy=324>,\n",
       " <tf.Variable 'Variable:0' shape=() dtype=float32, numpy=3.566999912261963>)"
      ]
     },
     "execution_count": 1,
     "metadata": {},
     "output_type": "execute_result"
    }
   ],
   "source": [
    "import tensorflow as tf\n",
    "\n",
    "string = tf.Variable(\"this is a string\", tf.string)\n",
    "number = tf.Variable(324, tf.int16)\n",
    "floating = tf.Variable(3.567, tf.float64)\n",
    "\n",
    "string,number, floating"
   ]
  },
  {
   "cell_type": "code",
   "execution_count": 2,
   "id": "e10ee82e",
   "metadata": {},
   "outputs": [
    {
     "data": {
      "text/plain": [
       "TensorShape([2, 2])"
      ]
     },
     "execution_count": 2,
     "metadata": {},
     "output_type": "execute_result"
    }
   ],
   "source": [
    "rank1_tensor = tf.Variable([\"Test\"], tf.string) \n",
    "rank2_tensor = tf.Variable([[\"test\", \"ok\"], [\"test\", \"yes\"]], tf.string)\n",
    "\n",
    "rank2_tensor.shape"
   ]
  },
  {
   "cell_type": "markdown",
   "id": "156cd456",
   "metadata": {},
   "source": [
    "# Changing Shape"
   ]
  },
  {
   "cell_type": "code",
   "execution_count": 3,
   "id": "2942a8d1",
   "metadata": {},
   "outputs": [],
   "source": [
    "tensor = tf.ones([1, 2, 3])\n",
    "tensor1 = tf.reshape(tensor, [2, 3, 1])\n",
    "tensor2 = tf.zeros([3,2, 4, 5])\n"
   ]
  },
  {
   "cell_type": "markdown",
   "id": "1155da56",
   "metadata": {},
   "source": [
    "# Vector calucation"
   ]
  },
  {
   "cell_type": "code",
   "execution_count": 4,
   "id": "8cf68d71",
   "metadata": {},
   "outputs": [
    {
     "data": {
      "text/plain": [
       "<tf.Tensor: shape=(3, 3), dtype=int32, numpy=\n",
       "array([[ 5,  9, 10],\n",
       "       [13, 10, 12],\n",
       "       [14, 13, 15]], dtype=int32)>"
      ]
     },
     "execution_count": 4,
     "metadata": {},
     "output_type": "execute_result"
    }
   ],
   "source": [
    "# Addition\n",
    "# You can add tensors together with the addition operator\n",
    "\n",
    "tensor1 = tf.constant([[2,4,3], [5,7,8], [9, 6, 7]])\n",
    "tensor2 = tf.constant([[3,5,7], [8,3,4], [5, 7, 8]])\n",
    "sum = tf.add(tensor1, tensor2)\n",
    "sum"
   ]
  },
  {
   "cell_type": "code",
   "execution_count": 5,
   "id": "4a476e15",
   "metadata": {},
   "outputs": [
    {
     "name": "stdout",
     "output_type": "stream",
     "text": [
      "tf.Tensor(\n",
      "[[12 16 -4]\n",
      " [ 0 36 20]], shape=(2, 3), dtype=int32)\n"
     ]
    },
    {
     "data": {
      "text/plain": [
       "<tf.Tensor: shape=(2, 2), dtype=int32, numpy=\n",
       "array([[53, 62],\n",
       "       [69, 80]], dtype=int32)>"
      ]
     },
     "execution_count": 5,
     "metadata": {},
     "output_type": "execute_result"
    }
   ],
   "source": [
    "#Matrix Multiplication\n",
    "# In machine learning, matrix multiplication is one of the most common operations.\n",
    "\n",
    "# Given matrix a, multiply it by 4\n",
    "matrix1 = tf.constant([[3, 4, -1], [0, 9, 5]])\n",
    "multiplied = tf.multiply(matrix1, 4)\n",
    "print(multiplied)\n",
    "\n",
    "# Given a matrix a and a matrix b, the matrix product is a third matrix c.\n",
    "matrixA = tf.constant([[3, 7], [4, 9]])\n",
    "matrixB = tf.constant([[6, 2], [5, 8]])\n",
    "matrix_product = tf.matmul(matrixA, matrixB)\n",
    "matrix_product"
   ]
  }
 ],
 "metadata": {
  "kernelspec": {
   "display_name": ".venv",
   "language": "python",
   "name": "python3"
  },
  "language_info": {
   "codemirror_mode": {
    "name": "ipython",
    "version": 3
   },
   "file_extension": ".py",
   "mimetype": "text/x-python",
   "name": "python",
   "nbconvert_exporter": "python",
   "pygments_lexer": "ipython3",
   "version": "3.12.8"
  }
 },
 "nbformat": 4,
 "nbformat_minor": 5
}
